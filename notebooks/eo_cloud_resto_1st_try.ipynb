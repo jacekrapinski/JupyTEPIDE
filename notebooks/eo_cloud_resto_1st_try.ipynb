{
 "cells": [
  {
   "cell_type": "markdown",
   "metadata": {
    "extensions": {
     "jupyter_dashboards": {
      "version": 1,
      "views": {
       "grid_default": {
        "col": 0,
        "height": 5,
        "hidden": false,
        "row": 29,
        "width": 12
       },
       "report_default": {}
      }
     }
    }
   },
   "source": [
    "## Issues\n",
    "* datepicker does not work on firefox and safari because they do not support the HTML date input field\n",
    "* can not set disabed state for datepicker\n",
    "* how to set the number of results"
   ]
  },
  {
   "cell_type": "code",
   "execution_count": 1,
   "metadata": {
    "extensions": {
     "jupyter_dashboards": {
      "version": 1,
      "views": {
       "grid_default": {
        "col": 0,
        "height": 29,
        "hidden": false,
        "row": 0,
        "width": null
       },
       "report_default": {}
      }
     }
    }
   },
   "outputs": [
    {
     "data": {
      "application/vnd.jupyter.widget-view+json": {
       "model_id": "8851a9f239a64799bd083f8348c33b18"
      }
     },
     "metadata": {},
     "output_type": "display_data"
    }
   ],
   "source": [
    "from IPython.display import clear_output\n",
    "from datetime import datetime\n",
    "from ipywidgets import DatePicker\n",
    "import urllib.request\n",
    "from urllib.parse import quote\n",
    "from pprint import pprint\n",
    "import json\n",
    "import ipywidgets as widgets\n",
    "from ipywidgets import Layout, Box, HBox\n",
    "from ipyleaflet import (\n",
    "    Map,\n",
    "    Marker,\n",
    "    TileLayer, ImageOverlay,\n",
    "    Polyline, Polygon, Rectangle, Circle, CircleMarker,\n",
    "    GeoJSON,\n",
    "    DrawControl\n",
    ")\n",
    "\n",
    "\n",
    "\n",
    "widgetStartTime = DatePicker(description=\"From:\", disabled=False,value=datetime(1970,1,1,0,0,0))\n",
    "widgetEndTime = DatePicker(description=\"To:\", disabled=False,value=datetime.now())\n",
    "plotButton=widgets.Button(description=\"Show available products\")\n",
    "useTimeCheckBox=widgets.Checkbox(\n",
    "    value=False,\n",
    "    description='Use date',\n",
    "    disabled=False\n",
    ")\n",
    "ile_wynikpw=widgets.BoundedIntText(\n",
    "value=100,\n",
    "min=1,\n",
    "max=100000,\n",
    "step=1,\n",
    "description='Number of results:',\n",
    "disabled=False\n",
    ")\n",
    "\n",
    "dc = DrawControl(circle={},rectangle={},polyline={},polygon={}\n",
    "                ,marker={'shapeOptions':{'color':'#5300FF'}},edit=False)\n",
    "\n",
    "mission=widgets.Dropdown(\n",
    "    options=['All','Envisat','Landsat5','Landsat7','Landsat8','Sentinel1','Sentinel2','Sentinel3'],\n",
    "    description='Mission:',\n",
    "    value='All',\n",
    "    disabled=False,\n",
    ")\n",
    "\n",
    "instrument=widgets.Dropdown(\n",
    "    options=['All','Meris','TM','ETM','OLI','OLI_TIRS','TIRS','SAR','MSI','OLCI','SLSTR','SRAL'],\n",
    "    description='Instrument:',\n",
    "    disabled=False,\n",
    ")\n",
    "\n",
    "punkty=[]\n",
    "\n",
    "\n",
    "def handle_draw(self, action, geo_json):\n",
    "    global punkty\n",
    "    if action=='created':\n",
    "        punkty.append(geo_json['geometry']['coordinates'])\n",
    "    elif action=='deleted':\n",
    "        punkty.remove(geo_json['geometry']['coordinates']) \n",
    "        \n",
    "\n",
    "dc.on_draw(handle_draw)\n",
    "\n",
    "m=Map(zoom=1)\n",
    "m.add_control(dc)\n",
    "wkt=''\n",
    "layers=[]\n",
    "def on_button_clicked(b):\n",
    "    clear_output()\n",
    "    global punkty,wkt,m,layers\n",
    "    print (len(punkty))\n",
    "    for i in m.layers[1:]:        \n",
    "        m.remove_layer(i)\n",
    "    \n",
    "    if useTimeCheckBox.value:\n",
    "        datetime\n",
    "        start=widgetStartTime.value.isoformat()\n",
    "        end=widgetEndTime.value.isoformat()\n",
    "        tstr=\"&startDate=%s&completionDate=%s\"%(start,end)\n",
    "        print(tstr)\n",
    "    else:\n",
    "        tstr=''\n",
    "    if len(punkty)>0:\n",
    "        wkt='&geometry=MULTIPOINT('\n",
    "        s=[]\n",
    "        for punkt in punkty:\n",
    "            s.append('(%f %f)'%(punkt[0],punkt[1]))\n",
    "        s=\",\".join(s)\n",
    "        wkt+=s+')'        \n",
    "    else:\n",
    "        wkt=''\n",
    "    if mission.value!='All':\n",
    "        col=mission.value+\"/\"\n",
    "    else:\n",
    "        col=''\n",
    "    if instrument.value!='All':\n",
    "        ins='&instrument='+instrument.value\n",
    "    else:\n",
    "        ins=''      \n",
    "    request=\"finder.eocloud.eu/resto/api/collections/\"+col+\"search.json?_pretty=true&maxRecords=%d\"%ile_wynikpw.value+wkt+tstr\n",
    "    request+=ins\n",
    "    request=\"http://\"+quote(request,safe=\"%/:=&?~#+!$,;'@()*[]\")\n",
    "    print(request)        \n",
    "    with urllib.request.urlopen(request) as response:\n",
    "        h=response.read()\n",
    "    h=json.loads(h)\n",
    "    g=GeoJSON(data=h,hover_style={'fillColor': 'red'})\n",
    "    layers.append(g)\n",
    "    m.add_layer(g)\n",
    "    for feature in h['features']:\n",
    "        print(feature['properties']['collection'],\n",
    "              feature['properties']['instrument'],\n",
    "              feature['properties']['completionDate'],\n",
    "               feature['properties']['instrument'],\n",
    "              feature['properties']['productIdentifier'])\n",
    "\n",
    "def mission_change(*args):     \n",
    "    instrument.disabled=False\n",
    "    if args[0]['new']=='Envisat':\n",
    "        instrument.options=['MERIS']\n",
    "    elif args[0]['new']=='Landsat5':\n",
    "        instrument.options=['TM']\n",
    "    elif args[0]['new']=='Landsat7':\n",
    "        instrument.options=['ETM']\n",
    "    elif args[0]['new']=='Landsat8':\n",
    "        instrument.options=['All','OLI','OLI_TIRS','TIRS']\n",
    "    elif args[0]['new']=='Sentinel1':\n",
    "        instrument.options=['SAR']\n",
    "    elif args[0]['new']=='Sentinel2':\n",
    "        instrument.options=['MSI']\n",
    "    elif args[0]['new']=='Sentinel3':\n",
    "        instrument.options=['All','OL','SL','SR']\n",
    "    elif args[0]['new']=='All':\n",
    "        instrument.options=['All','MERIS','TM','ETM','OLI','OLI_TIRS','TIRS','SAR','MSI','OLCI','SLSTR','SR']\n",
    "        instrument.value='All'\n",
    "    \n",
    "def timeCheck(*args):\n",
    "    if args[0]['new']:\n",
    "        print(widgetStartTime.get_state())\n",
    "        widgetStartTime.disabled=False\n",
    "        widgetEndTime.disabled=False\n",
    "    else:\n",
    "        widgetStartTime.disabled=True\n",
    "        widgetEndTime.disabled=True\n",
    "    print(args)\n",
    "            \n",
    "#Obsługa eventów\n",
    "plotButton.on_click(on_button_clicked)\n",
    "mission.observe(mission_change,names='value')\n",
    "useTimeCheckBox.observe(timeCheck,names='value')\n",
    "\n",
    "box_layout = Layout(display='flex',\n",
    "                    flex_flow='column',                    \n",
    "                    align_items='center',\n",
    "                    border='solid',                    \n",
    "                    width='100%')\n",
    "\n",
    "items=[HBox([ile_wynikpw]),\n",
    "       HBox([useTimeCheckBox,widgetStartTime,widgetEndTime]),\n",
    "       widgets.Label(value=\"Properties:\"),\n",
    "       HBox([mission,instrument]),\n",
    "       m,\n",
    "       plotButton]\n",
    "box = Box(children=items, layout=box_layout)\n",
    "box\n"
   ]
  },
  {
   "cell_type": "code",
   "execution_count": null,
   "metadata": {
    "collapsed": true,
    "extensions": {
     "jupyter_dashboards": {
      "version": 1,
      "views": {
       "grid_default": {
        "hidden": true
       },
       "report_default": {}
      }
     }
    }
   },
   "outputs": [],
   "source": []
  }
 ],
 "metadata": {
  "extensions": {
   "jupyter_dashboards": {
    "activeView": "grid_default",
    "version": 1,
    "views": {
     "grid_default": {
      "cellMargin": 10,
      "defaultCellHeight": 20,
      "maxColumns": 12,
      "name": "grid",
      "type": "grid"
     },
     "report_default": {
      "name": "report",
      "type": "report"
     }
    }
   }
  },
  "kernelspec": {
   "display_name": "Python 3",
   "language": "python",
   "name": "python3"
  },
  "language_info": {
   "codemirror_mode": {
    "name": "ipython",
    "version": 3
   },
   "file_extension": ".py",
   "mimetype": "text/x-python",
   "name": "python",
   "nbconvert_exporter": "python",
   "pygments_lexer": "ipython3",
   "version": "3.6.1"
  }
 },
 "nbformat": 4,
 "nbformat_minor": 2
}
