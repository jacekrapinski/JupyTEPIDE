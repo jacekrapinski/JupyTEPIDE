{
 "cells": [
  {
   "cell_type": "code",
   "execution_count": 4,
   "metadata": {},
   "outputs": [
    {
     "name": "stdout",
     "output_type": "stream",
     "text": [
      "Dimensions: (800, 800)\n"
     ]
    }
   ],
   "source": [
    "from __future__ import division\n",
    "\n",
    "import numpy as np\n",
    "from PIL import Image\n",
    "from bokeh.plotting import figure, show, output_file\n",
    "\n",
    "\n",
    "# Open image, and make sure it's RGB*A*\n",
    "lena_img = Image.open('globe.png').convert('RGBA')\n",
    "xdim, ydim = lena_img.size\n",
    "print(\"Dimensions: ({xdim}, {ydim})\".format(**locals()))\n",
    "# Create an array representation for the image `img`, and an 8-bit \"4\n",
    "# layer/RGBA\" version of it `view`.\n",
    "img = np.empty((ydim, xdim), dtype=np.uint32)\n",
    "view = img.view(dtype=np.uint8).reshape((ydim, xdim, 4))\n",
    "# Copy the RGBA image into view, flipping it so it comes right-side up\n",
    "# with a lower-left origin\n",
    "view[:,:,:] = np.flipud(np.asarray(lena_img))\n",
    "\n",
    "# Display the 32-bit RGBA image\n",
    "dim = max(xdim, ydim)\n",
    "fig = figure(title=\"Lena\",\n",
    "             x_range=(0,dim), y_range=(0,dim),\n",
    "             # Specifying xdim/ydim isn't quire right :-(\n",
    "             # width=xdim, height=ydim,\n",
    "             )\n",
    "fig.image_rgba(image=[img], x=0, y=0, dw=xdim, dh=ydim)\n",
    "\n",
    "show(fig)  # open a browser"
   ]
  },
  {
   "cell_type": "code",
   "execution_count": null,
   "metadata": {},
   "outputs": [],
   "source": []
  }
 ],
 "metadata": {
  "kernelspec": {
   "display_name": "Python 3.6 root",
   "language": "python",
   "name": "root"
  },
  "language_info": {
   "codemirror_mode": {
    "name": "ipython",
    "version": 3
   },
   "file_extension": ".py",
   "mimetype": "text/x-python",
   "name": "python",
   "nbconvert_exporter": "python",
   "pygments_lexer": "ipython3",
   "version": "3.6.1"
  }
 },
 "nbformat": 4,
 "nbformat_minor": 2
}
